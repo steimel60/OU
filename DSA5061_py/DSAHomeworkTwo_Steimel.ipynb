{
  "cells": [
    {
      "cell_type": "markdown",
      "metadata": {
        "id": "Z4ZAF7fM96nV"
      },
      "source": [
        "Objective:  This exercise provides an opportunity to demonstrate our ability to combine data sets and produce meaningful results.  Specifically, we want to provide a decision maker with more than just data - we want to provide insights, understanding, and data driven choices."
      ]
    },
    {
      "cell_type": "code",
      "execution_count": 1093,
      "metadata": {
        "id": "EdPDn9KL-HWZ",
        "colab": {
          "resources": {
            "http://localhost:8080/nbextensions/google.colab/files.js": {
              "data": "Ly8gQ29weXJpZ2h0IDIwMTcgR29vZ2xlIExMQwovLwovLyBMaWNlbnNlZCB1bmRlciB0aGUgQXBhY2hlIExpY2Vuc2UsIFZlcnNpb24gMi4wICh0aGUgIkxpY2Vuc2UiKTsKLy8geW91IG1heSBub3QgdXNlIHRoaXMgZmlsZSBleGNlcHQgaW4gY29tcGxpYW5jZSB3aXRoIHRoZSBMaWNlbnNlLgovLyBZb3UgbWF5IG9idGFpbiBhIGNvcHkgb2YgdGhlIExpY2Vuc2UgYXQKLy8KLy8gICAgICBodHRwOi8vd3d3LmFwYWNoZS5vcmcvbGljZW5zZXMvTElDRU5TRS0yLjAKLy8KLy8gVW5sZXNzIHJlcXVpcmVkIGJ5IGFwcGxpY2FibGUgbGF3IG9yIGFncmVlZCB0byBpbiB3cml0aW5nLCBzb2Z0d2FyZQovLyBkaXN0cmlidXRlZCB1bmRlciB0aGUgTGljZW5zZSBpcyBkaXN0cmlidXRlZCBvbiBhbiAiQVMgSVMiIEJBU0lTLAovLyBXSVRIT1VUIFdBUlJBTlRJRVMgT1IgQ09ORElUSU9OUyBPRiBBTlkgS0lORCwgZWl0aGVyIGV4cHJlc3Mgb3IgaW1wbGllZC4KLy8gU2VlIHRoZSBMaWNlbnNlIGZvciB0aGUgc3BlY2lmaWMgbGFuZ3VhZ2UgZ292ZXJuaW5nIHBlcm1pc3Npb25zIGFuZAovLyBsaW1pdGF0aW9ucyB1bmRlciB0aGUgTGljZW5zZS4KCi8qKgogKiBAZmlsZW92ZXJ2aWV3IEhlbHBlcnMgZm9yIGdvb2dsZS5jb2xhYiBQeXRob24gbW9kdWxlLgogKi8KKGZ1bmN0aW9uKHNjb3BlKSB7CmZ1bmN0aW9uIHNwYW4odGV4dCwgc3R5bGVBdHRyaWJ1dGVzID0ge30pIHsKICBjb25zdCBlbGVtZW50ID0gZG9jdW1lbnQuY3JlYXRlRWxlbWVudCgnc3BhbicpOwogIGVsZW1lbnQudGV4dENvbnRlbnQgPSB0ZXh0OwogIGZvciAoY29uc3Qga2V5IG9mIE9iamVjdC5rZXlzKHN0eWxlQXR0cmlidXRlcykpIHsKICAgIGVsZW1lbnQuc3R5bGVba2V5XSA9IHN0eWxlQXR0cmlidXRlc1trZXldOwogIH0KICByZXR1cm4gZWxlbWVudDsKfQoKLy8gTWF4IG51bWJlciBvZiBieXRlcyB3aGljaCB3aWxsIGJlIHVwbG9hZGVkIGF0IGEgdGltZS4KY29uc3QgTUFYX1BBWUxPQURfU0laRSA9IDEwMCAqIDEwMjQ7CgpmdW5jdGlvbiBfdXBsb2FkRmlsZXMoaW5wdXRJZCwgb3V0cHV0SWQpIHsKICBjb25zdCBzdGVwcyA9IHVwbG9hZEZpbGVzU3RlcChpbnB1dElkLCBvdXRwdXRJZCk7CiAgY29uc3Qgb3V0cHV0RWxlbWVudCA9IGRvY3VtZW50LmdldEVsZW1lbnRCeUlkKG91dHB1dElkKTsKICAvLyBDYWNoZSBzdGVwcyBvbiB0aGUgb3V0cHV0RWxlbWVudCB0byBtYWtlIGl0IGF2YWlsYWJsZSBmb3IgdGhlIG5leHQgY2FsbAogIC8vIHRvIHVwbG9hZEZpbGVzQ29udGludWUgZnJvbSBQeXRob24uCiAgb3V0cHV0RWxlbWVudC5zdGVwcyA9IHN0ZXBzOwoKICByZXR1cm4gX3VwbG9hZEZpbGVzQ29udGludWUob3V0cHV0SWQpOwp9CgovLyBUaGlzIGlzIHJvdWdobHkgYW4gYXN5bmMgZ2VuZXJhdG9yIChub3Qgc3VwcG9ydGVkIGluIHRoZSBicm93c2VyIHlldCksCi8vIHdoZXJlIHRoZXJlIGFyZSBtdWx0aXBsZSBhc3luY2hyb25vdXMgc3RlcHMgYW5kIHRoZSBQeXRob24gc2lkZSBpcyBnb2luZwovLyB0byBwb2xsIGZvciBjb21wbGV0aW9uIG9mIGVhY2ggc3RlcC4KLy8gVGhpcyB1c2VzIGEgUHJvbWlzZSB0byBibG9jayB0aGUgcHl0aG9uIHNpZGUgb24gY29tcGxldGlvbiBvZiBlYWNoIHN0ZXAsCi8vIHRoZW4gcGFzc2VzIHRoZSByZXN1bHQgb2YgdGhlIHByZXZpb3VzIHN0ZXAgYXMgdGhlIGlucHV0IHRvIHRoZSBuZXh0IHN0ZXAuCmZ1bmN0aW9uIF91cGxvYWRGaWxlc0NvbnRpbnVlKG91dHB1dElkKSB7CiAgY29uc3Qgb3V0cHV0RWxlbWVudCA9IGRvY3VtZW50LmdldEVsZW1lbnRCeUlkKG91dHB1dElkKTsKICBjb25zdCBzdGVwcyA9IG91dHB1dEVsZW1lbnQuc3RlcHM7CgogIGNvbnN0IG5leHQgPSBzdGVwcy5uZXh0KG91dHB1dEVsZW1lbnQubGFzdFByb21pc2VWYWx1ZSk7CiAgcmV0dXJuIFByb21pc2UucmVzb2x2ZShuZXh0LnZhbHVlLnByb21pc2UpLnRoZW4oKHZhbHVlKSA9PiB7CiAgICAvLyBDYWNoZSB0aGUgbGFzdCBwcm9taXNlIHZhbHVlIHRvIG1ha2UgaXQgYXZhaWxhYmxlIHRvIHRoZSBuZXh0CiAgICAvLyBzdGVwIG9mIHRoZSBnZW5lcmF0b3IuCiAgICBvdXRwdXRFbGVtZW50Lmxhc3RQcm9taXNlVmFsdWUgPSB2YWx1ZTsKICAgIHJldHVybiBuZXh0LnZhbHVlLnJlc3BvbnNlOwogIH0pOwp9CgovKioKICogR2VuZXJhdG9yIGZ1bmN0aW9uIHdoaWNoIGlzIGNhbGxlZCBiZXR3ZWVuIGVhY2ggYXN5bmMgc3RlcCBvZiB0aGUgdXBsb2FkCiAqIHByb2Nlc3MuCiAqIEBwYXJhbSB7c3RyaW5nfSBpbnB1dElkIEVsZW1lbnQgSUQgb2YgdGhlIGlucHV0IGZpbGUgcGlja2VyIGVsZW1lbnQuCiAqIEBwYXJhbSB7c3RyaW5nfSBvdXRwdXRJZCBFbGVtZW50IElEIG9mIHRoZSBvdXRwdXQgZGlzcGxheS4KICogQHJldHVybiB7IUl0ZXJhYmxlPCFPYmplY3Q+fSBJdGVyYWJsZSBvZiBuZXh0IHN0ZXBzLgogKi8KZnVuY3Rpb24qIHVwbG9hZEZpbGVzU3RlcChpbnB1dElkLCBvdXRwdXRJZCkgewogIGNvbnN0IGlucHV0RWxlbWVudCA9IGRvY3VtZW50LmdldEVsZW1lbnRCeUlkKGlucHV0SWQpOwogIGlucHV0RWxlbWVudC5kaXNhYmxlZCA9IGZhbHNlOwoKICBjb25zdCBvdXRwdXRFbGVtZW50ID0gZG9jdW1lbnQuZ2V0RWxlbWVudEJ5SWQob3V0cHV0SWQpOwogIG91dHB1dEVsZW1lbnQuaW5uZXJIVE1MID0gJyc7CgogIGNvbnN0IHBpY2tlZFByb21pc2UgPSBuZXcgUHJvbWlzZSgocmVzb2x2ZSkgPT4gewogICAgaW5wdXRFbGVtZW50LmFkZEV2ZW50TGlzdGVuZXIoJ2NoYW5nZScsIChlKSA9PiB7CiAgICAgIHJlc29sdmUoZS50YXJnZXQuZmlsZXMpOwogICAgfSk7CiAgfSk7CgogIGNvbnN0IGNhbmNlbCA9IGRvY3VtZW50LmNyZWF0ZUVsZW1lbnQoJ2J1dHRvbicpOwogIGlucHV0RWxlbWVudC5wYXJlbnRFbGVtZW50LmFwcGVuZENoaWxkKGNhbmNlbCk7CiAgY2FuY2VsLnRleHRDb250ZW50ID0gJ0NhbmNlbCB1cGxvYWQnOwogIGNvbnN0IGNhbmNlbFByb21pc2UgPSBuZXcgUHJvbWlzZSgocmVzb2x2ZSkgPT4gewogICAgY2FuY2VsLm9uY2xpY2sgPSAoKSA9PiB7CiAgICAgIHJlc29sdmUobnVsbCk7CiAgICB9OwogIH0pOwoKICAvLyBXYWl0IGZvciB0aGUgdXNlciB0byBwaWNrIHRoZSBmaWxlcy4KICBjb25zdCBmaWxlcyA9IHlpZWxkIHsKICAgIHByb21pc2U6IFByb21pc2UucmFjZShbcGlja2VkUHJvbWlzZSwgY2FuY2VsUHJvbWlzZV0pLAogICAgcmVzcG9uc2U6IHsKICAgICAgYWN0aW9uOiAnc3RhcnRpbmcnLAogICAgfQogIH07CgogIGNhbmNlbC5yZW1vdmUoKTsKCiAgLy8gRGlzYWJsZSB0aGUgaW5wdXQgZWxlbWVudCBzaW5jZSBmdXJ0aGVyIHBpY2tzIGFyZSBub3QgYWxsb3dlZC4KICBpbnB1dEVsZW1lbnQuZGlzYWJsZWQgPSB0cnVlOwoKICBpZiAoIWZpbGVzKSB7CiAgICByZXR1cm4gewogICAgICByZXNwb25zZTogewogICAgICAgIGFjdGlvbjogJ2NvbXBsZXRlJywKICAgICAgfQogICAgfTsKICB9CgogIGZvciAoY29uc3QgZmlsZSBvZiBmaWxlcykgewogICAgY29uc3QgbGkgPSBkb2N1bWVudC5jcmVhdGVFbGVtZW50KCdsaScpOwogICAgbGkuYXBwZW5kKHNwYW4oZmlsZS5uYW1lLCB7Zm9udFdlaWdodDogJ2JvbGQnfSkpOwogICAgbGkuYXBwZW5kKHNwYW4oCiAgICAgICAgYCgke2ZpbGUudHlwZSB8fCAnbi9hJ30pIC0gJHtmaWxlLnNpemV9IGJ5dGVzLCBgICsKICAgICAgICBgbGFzdCBtb2RpZmllZDogJHsKICAgICAgICAgICAgZmlsZS5sYXN0TW9kaWZpZWREYXRlID8gZmlsZS5sYXN0TW9kaWZpZWREYXRlLnRvTG9jYWxlRGF0ZVN0cmluZygpIDoKICAgICAgICAgICAgICAgICAgICAgICAgICAgICAgICAgICAgJ24vYSd9IC0gYCkpOwogICAgY29uc3QgcGVyY2VudCA9IHNwYW4oJzAlIGRvbmUnKTsKICAgIGxpLmFwcGVuZENoaWxkKHBlcmNlbnQpOwoKICAgIG91dHB1dEVsZW1lbnQuYXBwZW5kQ2hpbGQobGkpOwoKICAgIGNvbnN0IGZpbGVEYXRhUHJvbWlzZSA9IG5ldyBQcm9taXNlKChyZXNvbHZlKSA9PiB7CiAgICAgIGNvbnN0IHJlYWRlciA9IG5ldyBGaWxlUmVhZGVyKCk7CiAgICAgIHJlYWRlci5vbmxvYWQgPSAoZSkgPT4gewogICAgICAgIHJlc29sdmUoZS50YXJnZXQucmVzdWx0KTsKICAgICAgfTsKICAgICAgcmVhZGVyLnJlYWRBc0FycmF5QnVmZmVyKGZpbGUpOwogICAgfSk7CiAgICAvLyBXYWl0IGZvciB0aGUgZGF0YSB0byBiZSByZWFkeS4KICAgIGxldCBmaWxlRGF0YSA9IHlpZWxkIHsKICAgICAgcHJvbWlzZTogZmlsZURhdGFQcm9taXNlLAogICAgICByZXNwb25zZTogewogICAgICAgIGFjdGlvbjogJ2NvbnRpbnVlJywKICAgICAgfQogICAgfTsKCiAgICAvLyBVc2UgYSBjaHVua2VkIHNlbmRpbmcgdG8gYXZvaWQgbWVzc2FnZSBzaXplIGxpbWl0cy4gU2VlIGIvNjIxMTU2NjAuCiAgICBsZXQgcG9zaXRpb24gPSAwOwogICAgZG8gewogICAgICBjb25zdCBsZW5ndGggPSBNYXRoLm1pbihmaWxlRGF0YS5ieXRlTGVuZ3RoIC0gcG9zaXRpb24sIE1BWF9QQVlMT0FEX1NJWkUpOwogICAgICBjb25zdCBjaHVuayA9IG5ldyBVaW50OEFycmF5KGZpbGVEYXRhLCBwb3NpdGlvbiwgbGVuZ3RoKTsKICAgICAgcG9zaXRpb24gKz0gbGVuZ3RoOwoKICAgICAgY29uc3QgYmFzZTY0ID0gYnRvYShTdHJpbmcuZnJvbUNoYXJDb2RlLmFwcGx5KG51bGwsIGNodW5rKSk7CiAgICAgIHlpZWxkIHsKICAgICAgICByZXNwb25zZTogewogICAgICAgICAgYWN0aW9uOiAnYXBwZW5kJywKICAgICAgICAgIGZpbGU6IGZpbGUubmFtZSwKICAgICAgICAgIGRhdGE6IGJhc2U2NCwKICAgICAgICB9LAogICAgICB9OwoKICAgICAgbGV0IHBlcmNlbnREb25lID0gZmlsZURhdGEuYnl0ZUxlbmd0aCA9PT0gMCA/CiAgICAgICAgICAxMDAgOgogICAgICAgICAgTWF0aC5yb3VuZCgocG9zaXRpb24gLyBmaWxlRGF0YS5ieXRlTGVuZ3RoKSAqIDEwMCk7CiAgICAgIHBlcmNlbnQudGV4dENvbnRlbnQgPSBgJHtwZXJjZW50RG9uZX0lIGRvbmVgOwoKICAgIH0gd2hpbGUgKHBvc2l0aW9uIDwgZmlsZURhdGEuYnl0ZUxlbmd0aCk7CiAgfQoKICAvLyBBbGwgZG9uZS4KICB5aWVsZCB7CiAgICByZXNwb25zZTogewogICAgICBhY3Rpb246ICdjb21wbGV0ZScsCiAgICB9CiAgfTsKfQoKc2NvcGUuZ29vZ2xlID0gc2NvcGUuZ29vZ2xlIHx8IHt9OwpzY29wZS5nb29nbGUuY29sYWIgPSBzY29wZS5nb29nbGUuY29sYWIgfHwge307CnNjb3BlLmdvb2dsZS5jb2xhYi5fZmlsZXMgPSB7CiAgX3VwbG9hZEZpbGVzLAogIF91cGxvYWRGaWxlc0NvbnRpbnVlLAp9Owp9KShzZWxmKTsK",
              "ok": true,
              "headers": [
                [
                  "content-type",
                  "application/javascript"
                ]
              ],
              "status": 200,
              "status_text": ""
            }
          },
          "base_uri": "https://localhost:8080/",
          "height": 142
        },
        "outputId": "cb4e4e59-b51e-44b2-b154-ab6bc0cdceeb"
      },
      "outputs": [
        {
          "output_type": "display_data",
          "data": {
            "text/plain": [
              "<IPython.core.display.HTML object>"
            ],
            "text/html": [
              "\n",
              "     <input type=\"file\" id=\"files-207437e1-0f6b-46d7-b469-85dc40c0c75d\" name=\"files[]\" multiple disabled\n",
              "        style=\"border:none\" />\n",
              "     <output id=\"result-207437e1-0f6b-46d7-b469-85dc40c0c75d\">\n",
              "      Upload widget is only available when the cell has been executed in the\n",
              "      current browser session. Please rerun this cell to enable.\n",
              "      </output>\n",
              "      <script src=\"/nbextensions/google.colab/files.js\"></script> "
            ]
          },
          "metadata": {}
        },
        {
          "output_type": "stream",
          "name": "stdout",
          "text": [
            "Saving coaches_bp_dsa.csv to coaches_bp_dsa (5).csv\n",
            "Saving stadium_bp_dsa.csv to stadium_bp_dsa (5).csv\n",
            "Saving stats_bp_dsa.csv to stats_bp_dsa (5).csv\n"
          ]
        }
      ],
      "source": [
        "#Load our files\n",
        "from google.colab import files\n",
        "uploaded = files.upload()"
      ]
    },
    {
      "cell_type": "code",
      "execution_count": 1094,
      "metadata": {
        "id": "H9MyeMpt-lT8"
      },
      "outputs": [],
      "source": [
        "#Create DataFrames\n",
        "import pandas as pd\n",
        "coaches = pd.read_csv('/content/coaches_bp_dsa.csv')\n",
        "stadium = pd.read_csv('/content/stadium_bp_dsa.csv')\n",
        "stats   = pd.read_csv('/content/stats_bp_dsa.csv')\n",
        "#coaches"
      ]
    },
    {
      "cell_type": "code",
      "execution_count": 1095,
      "metadata": {
        "id": "FHCR0y-s_c-r"
      },
      "outputs": [],
      "source": [
        "#stadium"
      ]
    },
    {
      "cell_type": "code",
      "execution_count": 1096,
      "metadata": {
        "id": "UKf7cjn1_jPC"
      },
      "outputs": [],
      "source": [
        "#stats"
      ]
    },
    {
      "cell_type": "code",
      "execution_count": 1097,
      "metadata": {
        "id": "4zRB8Zo0AY0g"
      },
      "outputs": [],
      "source": [
        "df = coaches.merge(stats)\n",
        "df = df.merge(stadium)\n",
        "#df"
      ]
    },
    {
      "cell_type": "code",
      "execution_count": 1098,
      "metadata": {
        "colab": {
          "base_uri": "https://localhost:8080/"
        },
        "id": "TCg0mo_7AnEb",
        "outputId": "10b272a4-5997-4142-e047-b141858e19f8"
      },
      "outputs": [
        {
          "output_type": "execute_result",
          "data": {
            "text/plain": [
              "School                      0\n",
              "Conf                        0\n",
              "Coach                       0\n",
              " TotalPay                   5\n",
              " Graduation Rate (GSR)      0\n",
              "W                          11\n",
              "L                          11\n",
              " Ratio                     11\n",
              "OffenceScore               11\n",
              "Defense Score              11\n",
              "Score                      11\n",
              "PointsPerGame              11\n",
              " StadSize                   0\n",
              "dtype: int64"
            ]
          },
          "metadata": {},
          "execution_count": 1098
        }
      ],
      "source": [
        "#11 teams are missing the same Data\n",
        "df.isnull().sum()"
      ]
    },
    {
      "cell_type": "code",
      "source": [
        "#Drop those with no pay data since this is our prediction target\n",
        "df = df.dropna(subset = [' TotalPay '])"
      ],
      "metadata": {
        "id": "zEazRXV5Rv2h"
      },
      "execution_count": 1099,
      "outputs": []
    },
    {
      "cell_type": "code",
      "execution_count": 1100,
      "metadata": {
        "id": "fijzI5_FLX3S"
      },
      "outputs": [],
      "source": [
        "#A quick search shows the data is from 2016, we can easily fill in the missing W/L\n",
        "def fill_team_stats(df, school, w=pd.NA, l=pd.NA, ppg=pd.NA):\n",
        "  df.loc[df['School'] == school, ['W']] = w\n",
        "  df.loc[df['School'] == school, ['L']] = l\n",
        "  df.loc[df['School'] == school, ['PointsPerGame']] = ppg\n",
        "  df.loc[df['School'] == school, [' Ratio ']] = float(w/l)\n",
        "\n",
        "fill_team_stats(df, 'Bowling Green', 4, 8, 24.8)\n",
        "fill_team_stats(df, 'Central Florida', 6, 7, 28.8)\n",
        "fill_team_stats(df, 'Coastal Carolina', 10, 2, 37.25)\n",
        "fill_team_stats(df, 'Liberty', 6, 5, 27.45)\n",
        "fill_team_stats(df, 'Louisiana-Lafayette', 6, 7, 23.62)\n",
        "fill_team_stats(df, 'Miami (Fla.)', 9, 4, 34.3)\n",
        "fill_team_stats(df, 'Miami (Ohio)', 6, 7, 22.8)\n",
        "fill_team_stats(df, 'Mississippi', 6, 7, 30.4)\n",
        "fill_team_stats(df, 'Pittsburgh', 8, 5, 40.9)\n",
        "fill_team_stats(df, 'Southern California', 10, 3, 34.4)\n",
        "fill_team_stats(df, 'Southern Methodist', 7, 2, 34.4)"
      ]
    },
    {
      "cell_type": "code",
      "execution_count": 1101,
      "metadata": {
        "colab": {
          "base_uri": "https://localhost:8080/",
          "height": 424
        },
        "id": "FQkyXfTJNLBe",
        "outputId": "fc5dafb6-c6f6-4ad6-88c7-b7e97ede0677"
      },
      "outputs": [
        {
          "output_type": "execute_result",
          "data": {
            "text/plain": [
              "                School      Conf              Coach     TotalPay   \\\n",
              "0            Air Force  Mt. West       Troy Calhoun     $885,000    \n",
              "1                Akron       MAC       Terry Bowden     $412,500    \n",
              "2              Alabama       SEC         Nick Saban   $8,307,000    \n",
              "3    Appalachian State  Sun Belt  Scott Satterfield     $712,500    \n",
              "4              Arizona    Pac-12       Kevin Sumlin   $2,000,000    \n",
              "..                 ...       ...                ...           ...   \n",
              "113   Washington State    Pac-12         Mike Leach   $3,500,000    \n",
              "114      West Virginia    Big 12     Dana Holgorsen   $3,617,500    \n",
              "115   Western Michigan       MAC         Tim Lester     $800,000    \n",
              "116          Wisconsin   Big Ten        Paul Chryst   $3,750,000    \n",
              "117            Wyoming  Mt. West         Craig Bohl   $1,412,000    \n",
              "\n",
              "      Graduation Rate (GSR)      W    L     Ratio   OffenceScore  \\\n",
              "0                         83  10.0  3.0   3.333333          4.96   \n",
              "1                         45   5.0  7.0   0.714286         -0.40   \n",
              "2                         79  14.0  1.0  14.000000          8.01   \n",
              "3                         57  10.0  3.0   3.333333         -0.86   \n",
              "4                         74   3.0  9.0   0.333333          1.01   \n",
              "..                       ...   ...  ...        ...           ...   \n",
              "113                       93   8.0  5.0   1.600000          5.70   \n",
              "114                       66  10.0  3.0   3.333333          4.01   \n",
              "115                       74  13.0  1.0  13.000000          7.61   \n",
              "116                       71  11.0  3.0   3.666667          2.13   \n",
              "117                       97   8.0  6.0   1.333333          9.04   \n",
              "\n",
              "     Defense Score  Score  PointsPerGame  StadSize   \n",
              "0            -0.87   4.09          78.16    46,692   \n",
              "1            -6.12  -6.52          72.64    30,000   \n",
              "2            17.62  25.62          90.38   101,821   \n",
              "3             9.68   8.83          70.76    24,050   \n",
              "4            -5.64  -4.63          74.42    51,811   \n",
              "..             ...    ...            ...        ...  \n",
              "113           3.33   9.03          84.22    32,248   \n",
              "114           5.56   9.57          78.75    60,000   \n",
              "115           4.42  12.03          86.24    30,200   \n",
              "116          13.17  15.30          78.74    80,321   \n",
              "117          -7.68   1.37          81.23    29,181   \n",
              "\n",
              "[113 rows x 13 columns]"
            ],
            "text/html": [
              "\n",
              "  <div id=\"df-a85c118f-b9da-47ba-a6fa-0697dd4488d4\">\n",
              "    <div class=\"colab-df-container\">\n",
              "      <div>\n",
              "<style scoped>\n",
              "    .dataframe tbody tr th:only-of-type {\n",
              "        vertical-align: middle;\n",
              "    }\n",
              "\n",
              "    .dataframe tbody tr th {\n",
              "        vertical-align: top;\n",
              "    }\n",
              "\n",
              "    .dataframe thead th {\n",
              "        text-align: right;\n",
              "    }\n",
              "</style>\n",
              "<table border=\"1\" class=\"dataframe\">\n",
              "  <thead>\n",
              "    <tr style=\"text-align: right;\">\n",
              "      <th></th>\n",
              "      <th>School</th>\n",
              "      <th>Conf</th>\n",
              "      <th>Coach</th>\n",
              "      <th>TotalPay</th>\n",
              "      <th>Graduation Rate (GSR)</th>\n",
              "      <th>W</th>\n",
              "      <th>L</th>\n",
              "      <th>Ratio</th>\n",
              "      <th>OffenceScore</th>\n",
              "      <th>Defense Score</th>\n",
              "      <th>Score</th>\n",
              "      <th>PointsPerGame</th>\n",
              "      <th>StadSize</th>\n",
              "    </tr>\n",
              "  </thead>\n",
              "  <tbody>\n",
              "    <tr>\n",
              "      <th>0</th>\n",
              "      <td>Air Force</td>\n",
              "      <td>Mt. West</td>\n",
              "      <td>Troy Calhoun</td>\n",
              "      <td>$885,000</td>\n",
              "      <td>83</td>\n",
              "      <td>10.0</td>\n",
              "      <td>3.0</td>\n",
              "      <td>3.333333</td>\n",
              "      <td>4.96</td>\n",
              "      <td>-0.87</td>\n",
              "      <td>4.09</td>\n",
              "      <td>78.16</td>\n",
              "      <td>46,692</td>\n",
              "    </tr>\n",
              "    <tr>\n",
              "      <th>1</th>\n",
              "      <td>Akron</td>\n",
              "      <td>MAC</td>\n",
              "      <td>Terry Bowden</td>\n",
              "      <td>$412,500</td>\n",
              "      <td>45</td>\n",
              "      <td>5.0</td>\n",
              "      <td>7.0</td>\n",
              "      <td>0.714286</td>\n",
              "      <td>-0.40</td>\n",
              "      <td>-6.12</td>\n",
              "      <td>-6.52</td>\n",
              "      <td>72.64</td>\n",
              "      <td>30,000</td>\n",
              "    </tr>\n",
              "    <tr>\n",
              "      <th>2</th>\n",
              "      <td>Alabama</td>\n",
              "      <td>SEC</td>\n",
              "      <td>Nick Saban</td>\n",
              "      <td>$8,307,000</td>\n",
              "      <td>79</td>\n",
              "      <td>14.0</td>\n",
              "      <td>1.0</td>\n",
              "      <td>14.000000</td>\n",
              "      <td>8.01</td>\n",
              "      <td>17.62</td>\n",
              "      <td>25.62</td>\n",
              "      <td>90.38</td>\n",
              "      <td>101,821</td>\n",
              "    </tr>\n",
              "    <tr>\n",
              "      <th>3</th>\n",
              "      <td>Appalachian State</td>\n",
              "      <td>Sun Belt</td>\n",
              "      <td>Scott Satterfield</td>\n",
              "      <td>$712,500</td>\n",
              "      <td>57</td>\n",
              "      <td>10.0</td>\n",
              "      <td>3.0</td>\n",
              "      <td>3.333333</td>\n",
              "      <td>-0.86</td>\n",
              "      <td>9.68</td>\n",
              "      <td>8.83</td>\n",
              "      <td>70.76</td>\n",
              "      <td>24,050</td>\n",
              "    </tr>\n",
              "    <tr>\n",
              "      <th>4</th>\n",
              "      <td>Arizona</td>\n",
              "      <td>Pac-12</td>\n",
              "      <td>Kevin Sumlin</td>\n",
              "      <td>$2,000,000</td>\n",
              "      <td>74</td>\n",
              "      <td>3.0</td>\n",
              "      <td>9.0</td>\n",
              "      <td>0.333333</td>\n",
              "      <td>1.01</td>\n",
              "      <td>-5.64</td>\n",
              "      <td>-4.63</td>\n",
              "      <td>74.42</td>\n",
              "      <td>51,811</td>\n",
              "    </tr>\n",
              "    <tr>\n",
              "      <th>...</th>\n",
              "      <td>...</td>\n",
              "      <td>...</td>\n",
              "      <td>...</td>\n",
              "      <td>...</td>\n",
              "      <td>...</td>\n",
              "      <td>...</td>\n",
              "      <td>...</td>\n",
              "      <td>...</td>\n",
              "      <td>...</td>\n",
              "      <td>...</td>\n",
              "      <td>...</td>\n",
              "      <td>...</td>\n",
              "      <td>...</td>\n",
              "    </tr>\n",
              "    <tr>\n",
              "      <th>113</th>\n",
              "      <td>Washington State</td>\n",
              "      <td>Pac-12</td>\n",
              "      <td>Mike Leach</td>\n",
              "      <td>$3,500,000</td>\n",
              "      <td>93</td>\n",
              "      <td>8.0</td>\n",
              "      <td>5.0</td>\n",
              "      <td>1.600000</td>\n",
              "      <td>5.70</td>\n",
              "      <td>3.33</td>\n",
              "      <td>9.03</td>\n",
              "      <td>84.22</td>\n",
              "      <td>32,248</td>\n",
              "    </tr>\n",
              "    <tr>\n",
              "      <th>114</th>\n",
              "      <td>West Virginia</td>\n",
              "      <td>Big 12</td>\n",
              "      <td>Dana Holgorsen</td>\n",
              "      <td>$3,617,500</td>\n",
              "      <td>66</td>\n",
              "      <td>10.0</td>\n",
              "      <td>3.0</td>\n",
              "      <td>3.333333</td>\n",
              "      <td>4.01</td>\n",
              "      <td>5.56</td>\n",
              "      <td>9.57</td>\n",
              "      <td>78.75</td>\n",
              "      <td>60,000</td>\n",
              "    </tr>\n",
              "    <tr>\n",
              "      <th>115</th>\n",
              "      <td>Western Michigan</td>\n",
              "      <td>MAC</td>\n",
              "      <td>Tim Lester</td>\n",
              "      <td>$800,000</td>\n",
              "      <td>74</td>\n",
              "      <td>13.0</td>\n",
              "      <td>1.0</td>\n",
              "      <td>13.000000</td>\n",
              "      <td>7.61</td>\n",
              "      <td>4.42</td>\n",
              "      <td>12.03</td>\n",
              "      <td>86.24</td>\n",
              "      <td>30,200</td>\n",
              "    </tr>\n",
              "    <tr>\n",
              "      <th>116</th>\n",
              "      <td>Wisconsin</td>\n",
              "      <td>Big Ten</td>\n",
              "      <td>Paul Chryst</td>\n",
              "      <td>$3,750,000</td>\n",
              "      <td>71</td>\n",
              "      <td>11.0</td>\n",
              "      <td>3.0</td>\n",
              "      <td>3.666667</td>\n",
              "      <td>2.13</td>\n",
              "      <td>13.17</td>\n",
              "      <td>15.30</td>\n",
              "      <td>78.74</td>\n",
              "      <td>80,321</td>\n",
              "    </tr>\n",
              "    <tr>\n",
              "      <th>117</th>\n",
              "      <td>Wyoming</td>\n",
              "      <td>Mt. West</td>\n",
              "      <td>Craig Bohl</td>\n",
              "      <td>$1,412,000</td>\n",
              "      <td>97</td>\n",
              "      <td>8.0</td>\n",
              "      <td>6.0</td>\n",
              "      <td>1.333333</td>\n",
              "      <td>9.04</td>\n",
              "      <td>-7.68</td>\n",
              "      <td>1.37</td>\n",
              "      <td>81.23</td>\n",
              "      <td>29,181</td>\n",
              "    </tr>\n",
              "  </tbody>\n",
              "</table>\n",
              "<p>113 rows × 13 columns</p>\n",
              "</div>\n",
              "      <button class=\"colab-df-convert\" onclick=\"convertToInteractive('df-a85c118f-b9da-47ba-a6fa-0697dd4488d4')\"\n",
              "              title=\"Convert this dataframe to an interactive table.\"\n",
              "              style=\"display:none;\">\n",
              "        \n",
              "  <svg xmlns=\"http://www.w3.org/2000/svg\" height=\"24px\"viewBox=\"0 0 24 24\"\n",
              "       width=\"24px\">\n",
              "    <path d=\"M0 0h24v24H0V0z\" fill=\"none\"/>\n",
              "    <path d=\"M18.56 5.44l.94 2.06.94-2.06 2.06-.94-2.06-.94-.94-2.06-.94 2.06-2.06.94zm-11 1L8.5 8.5l.94-2.06 2.06-.94-2.06-.94L8.5 2.5l-.94 2.06-2.06.94zm10 10l.94 2.06.94-2.06 2.06-.94-2.06-.94-.94-2.06-.94 2.06-2.06.94z\"/><path d=\"M17.41 7.96l-1.37-1.37c-.4-.4-.92-.59-1.43-.59-.52 0-1.04.2-1.43.59L10.3 9.45l-7.72 7.72c-.78.78-.78 2.05 0 2.83L4 21.41c.39.39.9.59 1.41.59.51 0 1.02-.2 1.41-.59l7.78-7.78 2.81-2.81c.8-.78.8-2.07 0-2.86zM5.41 20L4 18.59l7.72-7.72 1.47 1.35L5.41 20z\"/>\n",
              "  </svg>\n",
              "      </button>\n",
              "      \n",
              "  <style>\n",
              "    .colab-df-container {\n",
              "      display:flex;\n",
              "      flex-wrap:wrap;\n",
              "      gap: 12px;\n",
              "    }\n",
              "\n",
              "    .colab-df-convert {\n",
              "      background-color: #E8F0FE;\n",
              "      border: none;\n",
              "      border-radius: 50%;\n",
              "      cursor: pointer;\n",
              "      display: none;\n",
              "      fill: #1967D2;\n",
              "      height: 32px;\n",
              "      padding: 0 0 0 0;\n",
              "      width: 32px;\n",
              "    }\n",
              "\n",
              "    .colab-df-convert:hover {\n",
              "      background-color: #E2EBFA;\n",
              "      box-shadow: 0px 1px 2px rgba(60, 64, 67, 0.3), 0px 1px 3px 1px rgba(60, 64, 67, 0.15);\n",
              "      fill: #174EA6;\n",
              "    }\n",
              "\n",
              "    [theme=dark] .colab-df-convert {\n",
              "      background-color: #3B4455;\n",
              "      fill: #D2E3FC;\n",
              "    }\n",
              "\n",
              "    [theme=dark] .colab-df-convert:hover {\n",
              "      background-color: #434B5C;\n",
              "      box-shadow: 0px 1px 3px 1px rgba(0, 0, 0, 0.15);\n",
              "      filter: drop-shadow(0px 1px 2px rgba(0, 0, 0, 0.3));\n",
              "      fill: #FFFFFF;\n",
              "    }\n",
              "  </style>\n",
              "\n",
              "      <script>\n",
              "        const buttonEl =\n",
              "          document.querySelector('#df-a85c118f-b9da-47ba-a6fa-0697dd4488d4 button.colab-df-convert');\n",
              "        buttonEl.style.display =\n",
              "          google.colab.kernel.accessAllowed ? 'block' : 'none';\n",
              "\n",
              "        async function convertToInteractive(key) {\n",
              "          const element = document.querySelector('#df-a85c118f-b9da-47ba-a6fa-0697dd4488d4');\n",
              "          const dataTable =\n",
              "            await google.colab.kernel.invokeFunction('convertToInteractive',\n",
              "                                                     [key], {});\n",
              "          if (!dataTable) return;\n",
              "\n",
              "          const docLinkHtml = 'Like what you see? Visit the ' +\n",
              "            '<a target=\"_blank\" href=https://colab.research.google.com/notebooks/data_table.ipynb>data table notebook</a>'\n",
              "            + ' to learn more about interactive tables.';\n",
              "          element.innerHTML = '';\n",
              "          dataTable['output_type'] = 'display_data';\n",
              "          await google.colab.output.renderOutput(dataTable, element);\n",
              "          const docLink = document.createElement('div');\n",
              "          docLink.innerHTML = docLinkHtml;\n",
              "          element.appendChild(docLink);\n",
              "        }\n",
              "      </script>\n",
              "    </div>\n",
              "  </div>\n",
              "  "
            ]
          },
          "metadata": {},
          "execution_count": 1101
        }
      ],
      "source": [
        "df"
      ]
    },
    {
      "cell_type": "code",
      "source": [
        "#Define the features to use in our model\n",
        "features = ['Conf',' Graduation Rate (GSR) ', 'W', 'L', ' Ratio ', 'OffenceScore', 'Defense Score', 'Score', 'PointsPerGame', ' StadSize ']\n",
        "\n",
        "#Deleting Ratio and Score categories helps limit some of our over fitting and provides better generalization\n",
        "#Comment out below if you want to include all provided features\n",
        "features = ['Conf',' Graduation Rate (GSR) ', 'W', 'L', 'OffenceScore', 'Defense Score', 'PointsPerGame', ' StadSize ']"
      ],
      "metadata": {
        "id": "aAkZDS-cUKEv"
      },
      "execution_count": 1102,
      "outputs": []
    },
    {
      "cell_type": "code",
      "execution_count": 1103,
      "metadata": {
        "id": "4hGRduyOTT0l"
      },
      "outputs": [],
      "source": [
        "#Get our independent variables\n",
        "X = df[features]\n",
        "#X"
      ]
    },
    {
      "cell_type": "code",
      "execution_count": 1104,
      "metadata": {
        "id": "uK8Cw5SKUjWS"
      },
      "outputs": [],
      "source": [
        "#Use one hot encoding for categorical data (Conference)\n",
        "from sklearn.preprocessing import OneHotEncoder\n",
        "\n",
        "confs = ['AAC', 'ACC', 'Big 12', 'Big Ten', 'C-USA', 'Ind.', 'MAC', 'Mt. West', 'Pac-12', 'SEC', 'Sun Belt']\n",
        "\n",
        "#creating instance of one-hot-encoder\n",
        "encoder = OneHotEncoder(handle_unknown='ignore')\n",
        "encoder_df = pd.DataFrame(encoder.fit_transform(X[['Conf']]).toarray())\n",
        "#merge one-hot encoded columns back with original DataFrame\n",
        "final_X = X.join(encoder_df)\n",
        "#Rename the Cols\n",
        "final_X.columns = features + confs\n",
        "#Drop original Conf column\n",
        "final_X = final_X.drop('Conf', axis=1)\n",
        "#final_X"
      ]
    },
    {
      "cell_type": "code",
      "execution_count": 1105,
      "metadata": {
        "id": "zX4M6Z9xWwk1"
      },
      "outputs": [],
      "source": [
        "#Stad Size str to int\n",
        "def fix_stad_size(s): return int(s.strip().replace(',',''))\n",
        "final_X[' StadSize '] = final_X[' StadSize '].apply(fix_stad_size)\n",
        "#final_X"
      ]
    },
    {
      "cell_type": "code",
      "execution_count": 1106,
      "metadata": {
        "id": "Qyg7PCqnUPjF"
      },
      "outputs": [],
      "source": [
        "#Use KNN to fill in other missing data\n",
        "from sklearn.impute import KNNImputer\n",
        "impute_knn = KNNImputer(n_neighbors=2)\n",
        "data = impute_knn.fit_transform(final_X)\n",
        "imputed_X = pd.DataFrame(data=data, columns=final_X.columns)\n",
        "#imputed_X"
      ]
    },
    {
      "cell_type": "markdown",
      "source": [
        "###Visualize Data"
      ],
      "metadata": {
        "id": "7NeSunZw1bnC"
      }
    },
    {
      "cell_type": "code",
      "execution_count": 1107,
      "metadata": {
        "colab": {
          "base_uri": "https://localhost:8080/",
          "height": 350
        },
        "id": "4sC58UNBStUi",
        "outputId": "b371e2ca-a1fc-4616-d6cc-9149a1ab75fb"
      },
      "outputs": [
        {
          "output_type": "stream",
          "name": "stderr",
          "text": [
            "/usr/local/lib/python3.7/dist-packages/ipykernel_launcher.py:8: FutureWarning: The default value of regex will change from True to False in a future version. In addition, single character regular expressions will *not* be treated as literal strings when regex=True.\n",
            "  \n"
          ]
        },
        {
          "output_type": "display_data",
          "data": {
            "text/plain": [
              "<Figure size 432x288 with 2 Axes>"
            ],
            "image/png": "[encoded data removed]"
          },
          "metadata": {
            "needs_background": "light"
          }
        }
      ],
      "source": [
        "import matplotlib.pyplot as plt\n",
        "x = imputed_X[' StadSize '].values  #Stadium Size\n",
        "c = imputed_X['W'].values           #Win Count\n",
        "y = df[' TotalPay ']                #Total Pay, Dependant Variable\n",
        "#Turn Total Pay stings into ints\n",
        "y = y.str.replace('$', '')\n",
        "y = y.str.replace(',', '')\n",
        "y = y.str.strip()\n",
        "y = y.astype(int)\n",
        "y = y.values\n",
        "df[' TotalPay '] = y\n",
        "#Plot\n",
        "plt.scatter(x, y, c=c)\n",
        "plt.title('Salaries by Stadium size and Win Count')\n",
        "plt.ylabel('Salary')\n",
        "plt.xlabel('Stadium Size')\n",
        "plt.colorbar(label='Wins')\n",
        "plt.show()\n",
        "#x, y"
      ]
    },
    {
      "cell_type": "code",
      "execution_count": 1108,
      "metadata": {
        "colab": {
          "base_uri": "https://localhost:8080/",
          "height": 370
        },
        "id": "6e18S0zeXVi1",
        "outputId": "c652745c-e2a6-477f-b59a-2d68e1c20841"
      },
      "outputs": [
        {
          "output_type": "stream",
          "name": "stderr",
          "text": [
            "/usr/local/lib/python3.7/dist-packages/matplotlib/cbook/__init__.py:1376: VisibleDeprecationWarning: Creating an ndarray from ragged nested sequences (which is a list-or-tuple of lists-or-tuples-or ndarrays with different lengths or shapes) is deprecated. If you meant to do this, you must specify 'dtype=object' when creating the ndarray.\n",
            "  X = np.atleast_1d(X.T if isinstance(X, np.ndarray) else np.asarray(X))\n"
          ]
        },
        {
          "output_type": "display_data",
          "data": {
            "text/plain": [
              "<Figure size 432x288 with 1 Axes>"
            ],
            "image/png": "[encoded data removed]"
          },
          "metadata": {
            "needs_background": "light"
          }
        }
      ],
      "source": [
        "#Plot whisker graphs for conferences\n",
        "ticks = ['AAC', 'ACC', 'Big 12', 'Big Ten', 'C-USA', 'Ind.', 'MAC','Mt. West', 'Pac-12', 'SEC', 'Sun Belt']\n",
        "data = []\n",
        "for conf in ticks:\n",
        "  salaries = df[df['Conf']==conf][' TotalPay ']\n",
        "  data.append(salaries.values)\n",
        "plt.boxplot(data, labels=ticks)\n",
        "plt.xticks(rotation=90)\n",
        "plt.title('Salary Distribution by Conference')\n",
        "plt.ylabel('Salary')\n",
        "plt.show()"
      ]
    },
    {
      "cell_type": "markdown",
      "source": [
        "###Build Prediction Model"
      ],
      "metadata": {
        "id": "FcA93xZN1jCI"
      }
    },
    {
      "cell_type": "code",
      "execution_count": 1109,
      "metadata": {
        "id": "vizLKQ9a7R3f"
      },
      "outputs": [],
      "source": [
        "from sklearn.linear_model import LinearRegression\n",
        "from sklearn.model_selection import train_test_split\n",
        "from sklearn.preprocessing import StandardScaler"
      ]
    },
    {
      "cell_type": "code",
      "execution_count": 1110,
      "metadata": {
        "id": "JF5FVC4UCgYv"
      },
      "outputs": [],
      "source": [
        "X_train, X_test, y_train, y_test = train_test_split(imputed_X.values, y, random_state=1)"
      ]
    },
    {
      "cell_type": "code",
      "source": [
        "#Scale Data\n",
        "scaler = StandardScaler()\n",
        "scaler.fit(X_train)\n",
        "X_train_scaled = scaler.transform(X_train)\n",
        "X_test_scaled = scaler.transform(X_test)"
      ],
      "metadata": {
        "id": "5YLwJM-3MHCJ"
      },
      "execution_count": 1111,
      "outputs": []
    },
    {
      "cell_type": "code",
      "execution_count": 1112,
      "metadata": {
        "id": "rNiShsvG7WYI"
      },
      "outputs": [],
      "source": [
        "#Build and fit model\n",
        "linreg = LinearRegression().fit(X_train_scaled, y_train)"
      ]
    },
    {
      "cell_type": "code",
      "execution_count": 1113,
      "metadata": {
        "id": "zJkse4SvC-q9"
      },
      "outputs": [],
      "source": [
        "#Get data for OU coach\n",
        "ou = imputed_X.iloc[77].copy()\n",
        "#ou"
      ]
    },
    {
      "cell_type": "code",
      "execution_count": 1114,
      "metadata": {
        "id": "i8T1M0GnDBdA"
      },
      "outputs": [],
      "source": [
        "#Make instance with OU coach in SEC\n",
        "ou_sec = ou.copy()\n",
        "ou_sec['Big Ten']=0.\n",
        "ou_sec['SEC']=1."
      ]
    },
    {
      "cell_type": "code",
      "execution_count": 1115,
      "metadata": {
        "id": "Kje74NKlEr_5"
      },
      "outputs": [],
      "source": [
        "#ou, ou_sec"
      ]
    },
    {
      "cell_type": "code",
      "source": [
        "#Transform OU data for model\n",
        "ou_scaled = scaler.transform([ou.values, ou_sec.values])\n",
        "#ou_scaled"
      ],
      "metadata": {
        "id": "pWkIEHo-NIEq"
      },
      "execution_count": 1116,
      "outputs": []
    },
    {
      "cell_type": "code",
      "execution_count": 1117,
      "metadata": {
        "colab": {
          "base_uri": "https://localhost:8080/"
        },
        "id": "1x9zc4tv_wbe",
        "outputId": "45cc28db-6f72-458c-b519-83ac78c495d5"
      },
      "outputs": [
        {
          "output_type": "stream",
          "name": "stdout",
          "text": [
            "OU Coach Salary: $1862732.07\n",
            "OU (SEC)Coach Salary: $2800614.87\n"
          ]
        }
      ],
      "source": [
        "preds = linreg.predict(ou_scaled)\n",
        "print(f\"OU Coach Salary: ${round(preds[0],2)}\\nOU (SEC)Coach Salary: ${round(preds[1],2)}\")"
      ]
    },
    {
      "cell_type": "code",
      "execution_count": 1118,
      "metadata": {
        "colab": {
          "base_uri": "https://localhost:8080/"
        },
        "id": "iLy63r6SBPKW",
        "outputId": "901bce9c-64cc-4ee2-daac-4a24237d5d47"
      },
      "outputs": [
        {
          "output_type": "execute_result",
          "data": {
            "text/plain": [
              "(0.7363059451265332, 0.7159147417491585)"
            ]
          },
          "metadata": {},
          "execution_count": 1118
        }
      ],
      "source": [
        "train_score = linreg.score(X_train_scaled, y_train)\n",
        "test_score = linreg.score(X_test_scaled, y_test)\n",
        "train_score, test_score"
      ]
    },
    {
      "cell_type": "code",
      "execution_count": 1119,
      "metadata": {
        "colab": {
          "base_uri": "https://localhost:8080/",
          "height": 391
        },
        "id": "Ml1l_m3xKM0Z",
        "outputId": "0e20a45f-34c9-44d4-829d-40970ba916cb"
      },
      "outputs": [
        {
          "output_type": "display_data",
          "data": {
            "text/plain": [
              "<Figure size 432x288 with 1 Axes>"
            ],
            "image/png": "[encoded data removed]"
          },
          "metadata": {
            "needs_background": "light"
          }
        }
      ],
      "source": [
        "#Plot Feature Coefs\n",
        "plt.bar(imputed_X.columns, linreg.coef_)\n",
        "plt.title('Feature Coefficients')\n",
        "plt.xticks(rotation=90)\n",
        "plt.show()"
      ]
    },
    {
      "cell_type": "code",
      "source": [
        "preds = linreg.predict(X_test_scaled)\n",
        "diffs = [act-pred for act,pred in zip(y_test,preds)]\n",
        "plt.plot(range(len(X_test_scaled)), y_test)\n",
        "plt.plot(range(len(X_test_scaled)), preds)\n",
        "plt.title('Predictions on test set')\n",
        "plt.legend(['Actual', 'Predicted', '% wrong'])\n",
        "plt.show()"
      ],
      "metadata": {
        "colab": {
          "base_uri": "https://localhost:8080/",
          "height": 281
        },
        "id": "t8HM68OCkAka",
        "outputId": "8ddef941-a7a4-44ae-eba1-03d59ccaa80a"
      },
      "execution_count": 1120,
      "outputs": [
        {
          "output_type": "display_data",
          "data": {
            "text/plain": [
              "<Figure size 432x288 with 1 Axes>"
            ],
            "image/png": "[encoded data removed]"
          },
          "metadata": {
            "needs_background": "light"
          }
        }
      ]
    },
    {
      "cell_type": "markdown",
      "source": [
        "#What is the recommended salary for the OU football coach?"
      ],
      "metadata": {
        "id": "lpoFCOT-nT-j"
      }
    },
    {
      "cell_type": "markdown",
      "source": [
        "Our model's recommended salary for the OU football coach is: $1,862,732"
      ],
      "metadata": {
        "id": "qOJIpt_1nVIu"
      }
    },
    {
      "cell_type": "markdown",
      "source": [
        "##What would the appropiate salary be if OU moved to the SEC?"
      ],
      "metadata": {
        "id": "wMsd9-VLnl8j"
      }
    },
    {
      "cell_type": "markdown",
      "source": [
        "Our model's recommended salary for the OU football coach in the SEC conference is: $2,800,614"
      ],
      "metadata": {
        "id": "HFlT5U_cnuXA"
      }
    },
    {
      "cell_type": "markdown",
      "source": [
        "##What schools did we drop from the data and why?"
      ],
      "metadata": {
        "id": "zAOlBACfoO19"
      }
    },
    {
      "cell_type": "markdown",
      "source": [
        "We dropped any schools that didn't have data for the Total pay of their coach because that is our target value. While we imputed some other values we don't want to do this for target values."
      ],
      "metadata": {
        "id": "orxX9HoroS8g"
      }
    },
    {
      "cell_type": "markdown",
      "source": [
        "##What is the single biggest impact on salary size?"
      ],
      "metadata": {
        "id": "ZXdrktcfpIve"
      }
    },
    {
      "cell_type": "markdown",
      "source": [
        "Stadium size has the biggest impact on salary size."
      ],
      "metadata": {
        "id": "uTDsKeJgpMor"
      }
    }
  ],
  "metadata": {
    "colab": {
      "collapsed_sections": [],
      "name": "DSAHomework2_Steimel.ipynb",
      "provenance": []
    },
    "kernelspec": {
      "display_name": "Python 3",
      "name": "python3"
    },
    "language_info": {
      "name": "python"
    }
  },
  "nbformat": 4,
  "nbformat_minor": 0
}