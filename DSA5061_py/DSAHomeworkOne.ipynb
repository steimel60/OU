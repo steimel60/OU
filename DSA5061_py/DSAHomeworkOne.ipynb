{
  "nbformat": 4,
  "nbformat_minor": 0,
  "metadata": {
    "colab": {
      "name": "DSAHomeworkOne.ipynb",
      "provenance": []
    },
    "kernelspec": {
      "name": "python3",
      "display_name": "Python 3"
    },
    "language_info": {
      "name": "python"
    }
  },
  "cells": [
    {
      "cell_type": "markdown",
      "source": [
        "This exercise provides an opportunity to demonstrate our ability to use a platform of choice to complete an introductory exercise in Python.\n",
        "In this exercise we will take user input for the cost and size of a house and compare the cost per sqft to the given standard to see if they are paying a good, bad, or average price."
      ],
      "metadata": {
        "id": "tD6uoiVHxDKh"
      }
    },
    {
      "cell_type": "code",
      "source": [
        "#Create function to calculate cost/sqft of a house\n",
        "\n",
        "def cost_per_sqft(price, sqft):\n",
        "  \"\"\"\n",
        "  float price: Cost of the house\n",
        "  float sqft: Square footage (area) of the house\n",
        "  \"\"\"\n",
        "  return price/sqft"
      ],
      "metadata": {
        "id": "eHLGYfczxIb2"
      },
      "execution_count": 14,
      "outputs": []
    },
    {
      "cell_type": "code",
      "source": [
        "#Get user inputs\n",
        "\n",
        "#Get price and make sure its a valid number\n",
        "while True:\n",
        "  price = input(\"Please enter a price: \")\n",
        "  try:\n",
        "    price = float(price)\n",
        "    break\n",
        "  except ValueError:\n",
        "    print(\"Invalid input, please enter a valid number.\")\n",
        "\n",
        "#Get sqft and make sure its a valid number\n",
        "while True:\n",
        "  sqft = input(\"Please enter square feet: \")\n",
        "  try:\n",
        "    sqft = float(sqft)\n",
        "    break\n",
        "  except ValueError:\n",
        "    print(\"Invalid input, please enter a valid number.\")"
      ],
      "metadata": {
        "colab": {
          "base_uri": "https://localhost:8080/"
        },
        "id": "BEdmcpnEx577",
        "outputId": "b0569503-cf81-422c-86c8-ceaa8bd85785"
      },
      "execution_count": 19,
      "outputs": [
        {
          "name": "stdout",
          "output_type": "stream",
          "text": [
            "Please enter a price: lkj\n",
            "Invalid input, please enter a valid number.\n",
            "Please enter a price: ji[\n",
            "Invalid input, please enter a valid number.\n",
            "Please enter a price: 10000\n",
            "Please enter square feet: 82sqft\n",
            "Invalid input, please enter a valid number.\n",
            "Please enter square feet: 82\n"
          ]
        }
      ]
    },
    {
      "cell_type": "code",
      "source": [
        "#Get the users cost per sqft\n",
        "userCostPerSqft = cost_per_sqft(price, sqft)\n",
        "print(f\"Your cost per sqft: ${userCostPerSqft:.2f}\")"
      ],
      "metadata": {
        "colab": {
          "base_uri": "https://localhost:8080/"
        },
        "id": "3NSSIZk5yFtN",
        "outputId": "33c5cf86-5893-4db6-a1f1-cedeec95e9eb"
      },
      "execution_count": 18,
      "outputs": [
        {
          "output_type": "stream",
          "name": "stdout",
          "text": [
            "Your cost per sqft: $121.95\n"
          ]
        }
      ]
    },
    {
      "cell_type": "code",
      "source": [
        "#Compare the user's cost to the standard\n",
        "Standard = 125\n",
        "if userCostPerSqft < Standard:\n",
        "  print(\"You found a good deal! :)\")\n",
        "elif userCostPerSqft > Standard:\n",
        "  print(\"You're cost is above average! :(\")\n",
        "else:\n",
        "  print(\"You're cost is just average. :/\")"
      ],
      "metadata": {
        "colab": {
          "base_uri": "https://localhost:8080/"
        },
        "id": "Mp7iBkMY0rNL",
        "outputId": "ec707a87-979d-435f-87d0-04410784e9e5"
      },
      "execution_count": 17,
      "outputs": [
        {
          "output_type": "stream",
          "name": "stdout",
          "text": [
            "You found a good deal! :)\n"
          ]
        }
      ]
    }
  ]
}